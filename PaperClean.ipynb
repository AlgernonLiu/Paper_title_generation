{
 "cells": [
  {
   "cell_type": "markdown",
   "metadata": {},
   "source": [
    "## Data cleaning and format conversion\n",
    "\n",
    "The raw CSL dataset is tsv file and we want to convert it into Dataset_Dict format.\n",
    "Also each line in CSL dataset means one paper, the component is splited by '\\t'. The first component is the task type, and in this case, is \"to title\". So we need to delete our the task type and split the line into document and summary parts. "
   ]
  },
  {
   "cell_type": "code",
   "execution_count": 1,
   "metadata": {},
   "outputs": [],
   "source": [
    "def read_dataset(path):\n",
    "    \n",
    "    documents = []\n",
    "    summarys = []\n",
    "    ids = []\n",
    "    with open(path, mode=\"r\", encoding=\"utf-8\") as f:\n",
    "        for line_id, line in enumerate(f):\n",
    "            line = line.strip().split('\\t')\n",
    "\n",
    "            if len(line) == 3:\n",
    "                id = line_id\n",
    "                document = line[1]\n",
    "                summary = line[2]\n",
    "                documents.append(document)\n",
    "                summarys.append(summary)\n",
    "                ids.append(int(id))\n",
    "                \n",
    "    data_cleaned = {\n",
    "        \"document\": documents,\n",
    "        \"summary\": summarys,\n",
    "        \"id\": ids \n",
    "    }\n",
    "    \n",
    "    return data_cleaned\n",
    "\n",
    "data_test = read_dataset(\"/home/xxliu/Other projects/Title_generation/CSL/benchmark/ts/test.tsv\")\n",
    "data_val = read_dataset(\"/home/xxliu/Other projects/Title_generation/CSL/benchmark/ts/dev.tsv\")\n",
    "data_train = read_dataset(\"/home/xxliu/Other projects/Title_generation/CSL/benchmark/ts/train.tsv\")"
   ]
  },
  {
   "cell_type": "markdown",
   "metadata": {},
   "source": []
  },
  {
   "cell_type": "code",
   "execution_count": 2,
   "metadata": {},
   "outputs": [],
   "source": [
    "from datasets import  Dataset, DatasetDict\n",
    "\n",
    "train_dataset = Dataset.from_dict(data_train)\n",
    "test_dataset = Dataset.from_dict(data_test)\n",
    "val_dataset = Dataset.from_dict(data_val)\n",
    "\n",
    "dataset_dict = DatasetDict({\n",
    "    \"train\": train_dataset,\n",
    "    \"test\": test_dataset, \n",
    "    \"validation\": val_dataset\n",
    "})"
   ]
  },
  {
   "cell_type": "code",
   "execution_count": 3,
   "metadata": {},
   "outputs": [
    {
     "data": {
      "text/plain": [
       "DatasetDict({\n",
       "    train: Dataset({\n",
       "        features: ['document', 'summary', 'id'],\n",
       "        num_rows: 8000\n",
       "    })\n",
       "    test: Dataset({\n",
       "        features: ['document', 'summary', 'id'],\n",
       "        num_rows: 1000\n",
       "    })\n",
       "    validation: Dataset({\n",
       "        features: ['document', 'summary', 'id'],\n",
       "        num_rows: 1000\n",
       "    })\n",
       "})"
      ]
     },
     "execution_count": 3,
     "metadata": {},
     "output_type": "execute_result"
    }
   ],
   "source": [
    "dataset_dict"
   ]
  },
  {
   "cell_type": "code",
   "execution_count": 4,
   "metadata": {},
   "outputs": [
    {
     "data": {
      "application/vnd.jupyter.widget-view+json": {
       "model_id": "2c38aacef9b3454d985678c097339c27",
       "version_major": 2,
       "version_minor": 0
      },
      "text/plain": [
       "Saving the dataset (0/1 shards):   0%|          | 0/8000 [00:00<?, ? examples/s]"
      ]
     },
     "metadata": {},
     "output_type": "display_data"
    },
    {
     "data": {
      "application/vnd.jupyter.widget-view+json": {
       "model_id": "82800f57568a45ebb2e7009d75554a54",
       "version_major": 2,
       "version_minor": 0
      },
      "text/plain": [
       "Saving the dataset (0/1 shards):   0%|          | 0/1000 [00:00<?, ? examples/s]"
      ]
     },
     "metadata": {},
     "output_type": "display_data"
    },
    {
     "data": {
      "application/vnd.jupyter.widget-view+json": {
       "model_id": "e83e5b28a5774799880dd0341f23f0d7",
       "version_major": 2,
       "version_minor": 0
      },
      "text/plain": [
       "Saving the dataset (0/1 shards):   0%|          | 0/1000 [00:00<?, ? examples/s]"
      ]
     },
     "metadata": {},
     "output_type": "display_data"
    }
   ],
   "source": [
    "dataset_dict.save_to_disk(\"./Paper\")"
   ]
  },
  {
   "cell_type": "code",
   "execution_count": 5,
   "metadata": {},
   "outputs": [
    {
     "data": {
      "text/plain": [
       "<function datasets.load.load_from_disk(dataset_path: str, fs='deprecated', keep_in_memory: Optional[bool] = None, storage_options: Optional[dict] = None) -> Union[datasets.arrow_dataset.Dataset, datasets.dataset_dict.DatasetDict]>"
      ]
     },
     "execution_count": 5,
     "metadata": {},
     "output_type": "execute_result"
    }
   ],
   "source": [
    "import datasets  \n",
    "datasets.load_from_disk"
   ]
  },
  {
   "cell_type": "code",
   "execution_count": 6,
   "metadata": {},
   "outputs": [
    {
     "data": {
      "text/plain": [
       "{'document': '太平天国占领区街市没有刻字铺，所有刻字匠人都编入镌刻营，“朝勋詹记”一印应为太平天国镌刻营所出。但它不属于太平天国礼部统一制发的印章。太平天国私人便章实物从无发现，“朝勋詹记”一印的发现，弥足珍贵，它为研究太平天国用印情况及制度提供了第一手重要实物资料。',\n",
       " 'summary': '太平天国私人便章“朝勋詹记”考',\n",
       " 'id': 0}"
      ]
     },
     "execution_count": 6,
     "metadata": {},
     "output_type": "execute_result"
    }
   ],
   "source": [
    "dataset_dict[\"train\"][0]"
   ]
  },
  {
   "cell_type": "code",
   "execution_count": 7,
   "metadata": {},
   "outputs": [
    {
     "data": {
      "text/plain": [
       "{'document': '采用修正的Rodrigues参数(MRP),建立了飞行器姿态控制系统的数学模型；利用刚体姿态动力学方程和运动学方程建立了带有转动惯量体坐标系各轴间耦合量的非线性控制系统模型；在镇定控制器设计中,用消去法建立了控制器与Lyapunov函数之间的关系,减少了在迭代算法求解过程中的迭代次数,提出了基于平方和(SOS)方法的一种新的设计方法.仿真结果表明,用这种方法设计镇定控制器简化了设计过程,并且控制器具有较快的响应速度和较好的收敛性.',\n",
       " 'summary': '一种基于平方和优化的飞行器大角度机动镇定控制器设计方法',\n",
       " 'id': 0}"
      ]
     },
     "execution_count": 7,
     "metadata": {},
     "output_type": "execute_result"
    }
   ],
   "source": [
    "dataset_dict[\"validation\"][0]"
   ]
  },
  {
   "cell_type": "code",
   "execution_count": 8,
   "metadata": {},
   "outputs": [
    {
     "data": {
      "text/plain": [
       "{'document': '双官能团活性艳蓝GN和RN在固色浴中凝聚性小、骤染性小、匀染性好,且吸尽率和固色率高、提升性和重现性好,较好地克服了常用单乙烯砜型活性艳蓝(C.I.B-19)的性能缺陷.该染料最适合70℃染色,与嫩黄Y-160或翠蓝B-21配伍拼染艳绿色或艳蓝色,可以大幅提高染色一等品率.',\n",
       " 'summary': '双官能团活性艳蓝的应用性能',\n",
       " 'id': 0}"
      ]
     },
     "execution_count": 8,
     "metadata": {},
     "output_type": "execute_result"
    }
   ],
   "source": [
    "dataset_dict[\"test\"][0]"
   ]
  }
 ],
 "metadata": {
  "kernelspec": {
   "display_name": "myenv",
   "language": "python",
   "name": "python3"
  },
  "language_info": {
   "codemirror_mode": {
    "name": "ipython",
    "version": 3
   },
   "file_extension": ".py",
   "mimetype": "text/x-python",
   "name": "python",
   "nbconvert_exporter": "python",
   "pygments_lexer": "ipython3",
   "version": "3.9.19"
  }
 },
 "nbformat": 4,
 "nbformat_minor": 2
}
